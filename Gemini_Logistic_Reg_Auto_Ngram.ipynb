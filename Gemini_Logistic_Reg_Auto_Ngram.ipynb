{
 "cells": [
  {
   "cell_type": "code",
   "execution_count": 3,
   "metadata": {},
   "outputs": [
    {
     "name": "stdout",
     "output_type": "stream",
     "text": [
      "Best parameters set found on development set:\n",
      "{'vect__ngram_range': (1, 5)}\n",
      "Grid scores on development set:\n",
      "0.260 (+/-0.025) for {'vect__ngram_range': (1, 1)}\n",
      "0.756 (+/-0.019) for {'vect__ngram_range': (1, 2)}\n",
      "0.824 (+/-0.015) for {'vect__ngram_range': (1, 3)}\n",
      "0.819 (+/-0.013) for {'vect__ngram_range': (2, 3)}\n",
      "0.836 (+/-0.016) for {'vect__ngram_range': (1, 4)}\n",
      "0.831 (+/-0.016) for {'vect__ngram_range': (2, 4)}\n",
      "0.839 (+/-0.011) for {'vect__ngram_range': (1, 5)}\n",
      "0.834 (+/-0.017) for {'vect__ngram_range': (2, 5)}\n",
      "0.808 (+/-0.020) for {'vect__ngram_range': (3, 5)}\n",
      "0.838 (+/-0.016) for {'vect__ngram_range': (1, 6)}\n",
      "0.831 (+/-0.019) for {'vect__ngram_range': (2, 6)}\n",
      "0.803 (+/-0.022) for {'vect__ngram_range': (3, 6)}\n",
      "0.731 (+/-0.025) for {'vect__ngram_range': (4, 6)}\n",
      "              precision    recall  f1-score   support\n",
      "\n",
      "           0       0.97      0.99      0.98     13975\n",
      "           1       0.90      0.78      0.84      1593\n",
      "\n",
      "    accuracy                           0.97     15568\n",
      "   macro avg       0.94      0.88      0.91     15568\n",
      "weighted avg       0.97      0.97      0.97     15568\n",
      "\n"
     ]
    }
   ],
   "source": [
    "import pandas as pd\n",
    "from sklearn.feature_extraction.text import CountVectorizer\n",
    "from sklearn.linear_model import LogisticRegression\n",
    "from sklearn.model_selection import train_test_split, GridSearchCV\n",
    "from sklearn.pipeline import Pipeline\n",
    "from sklearn.metrics import classification_report\n",
    "\n",
    "path = '/Users/tomcio/Documents/GitHub/MIT_MBAn_NER/data/'\n",
    "data = pd.read_csv(path + 'training_data_RAW.csv')\n",
    "\n",
    "# Assuming 'data' is your DataFrame and it's already loaded\n",
    "X = data[\"Name\"]\n",
    "y = data[\"label\"]\n",
    "\n",
    "# Split the data into training and testing sets\n",
    "X_train, X_test, y_train, y_test = train_test_split(X, y, test_size=0.2, random_state=42)\n",
    "\n",
    "# Define a pipeline combining a text feature extractor with a simple classifier\n",
    "pipeline = Pipeline([\n",
    "    ('vect', CountVectorizer(analyzer='char')),\n",
    "    ('clf', LogisticRegression(solver='liblinear')),  # Using 'liblinear' solver for binary classification\n",
    "])\n",
    "\n",
    "# Define the parameter grid to search over\n",
    "param_grid = {\n",
    "    'vect__ngram_range': [(1, 1), (1, 2), (1, 3), (2, 3), (1, 4), (2, 4), (1, 5), (2, 5), (3, 5), (1, 6), (2, 6), (3, 6), (4, 6)],\n",
    "    # You can add more parameters here to test other aspects of the pipeline\n",
    "}\n",
    "\n",
    "\n",
    "# Setup the grid search\n",
    "grid_search = GridSearchCV(pipeline, param_grid, cv=5, scoring='f1', n_jobs=-1)\n",
    "\n",
    "# Fit the grid search to the data\n",
    "grid_search.fit(X_train, y_train)\n",
    "\n",
    "# Print the best parameters and the best score\n",
    "print(\"Best parameters set found on development set:\")\n",
    "print(grid_search.best_params_)\n",
    "print(\"Grid scores on development set:\")\n",
    "means = grid_search.cv_results_['mean_test_score']\n",
    "stds = grid_search.cv_results_['std_test_score']\n",
    "for mean, std, params in zip(means, stds, grid_search.cv_results_['params']):\n",
    "    print(\"%0.3f (+/-%0.03f) for %r\" % (mean, std * 2, params))\n",
    "\n",
    "# Evaluate the best grid-searched model on the test data\n",
    "y_true, y_pred = y_test, grid_search.predict(X_test)\n",
    "print(classification_report(y_true, y_pred))\n"
   ]
  },
  {
   "cell_type": "code",
   "execution_count": null,
   "metadata": {},
   "outputs": [],
   "source": []
  }
 ],
 "metadata": {
  "kernelspec": {
   "display_name": ".venv",
   "language": "python",
   "name": "python3"
  },
  "language_info": {
   "codemirror_mode": {
    "name": "ipython",
    "version": 3
   },
   "file_extension": ".py",
   "mimetype": "text/x-python",
   "name": "python",
   "nbconvert_exporter": "python",
   "pygments_lexer": "ipython3",
   "version": "3.11.3"
  }
 },
 "nbformat": 4,
 "nbformat_minor": 2
}
